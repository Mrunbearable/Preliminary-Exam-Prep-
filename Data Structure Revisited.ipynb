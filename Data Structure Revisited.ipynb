{
 "cells": [
  {
   "cell_type": "markdown",
   "id": "e90ab104",
   "metadata": {},
   "source": [
    "### Data Structures Revisited"
   ]
  },
  {
   "cell_type": "markdown",
   "id": "9483a189",
   "metadata": {},
   "source": [
    "#### Lesson Intention\n",
    "- Use data structures Of arrays, records, trees and sequential files\n",
    "\n",
    "- Implement data structures that support data storage\n",
    "\n",
    "- single and multidimensional arrays\n",
    "\n",
    "- lists\n",
    "\n",
    "- trees\n",
    "\n",
    "- stacks\n",
    "\n",
    "- hash tables"
   ]
  },
  {
   "cell_type": "markdown",
   "id": "14ec31de",
   "metadata": {},
   "source": [
    "#### Success Criteria\n",
    "1. I can use data structures such as arrays, records trees and sequential files in Python.\n",
    "\n",
    "2. I can implement single and multidimensional arrays, lists, trees stacks and dictionaries in Python."
   ]
  },
  {
   "cell_type": "markdown",
   "id": "a2743240",
   "metadata": {},
   "source": [
    "1. Write a program that takes a week’s worth of daily temperatures (7 values) in a numpy array.\n",
    "\n",
    "Calculate and print: highest temperature, lowest temperature, and the average.\n",
    "\n",
    "Extension: ask the user to input the temperatures and update the array."
   ]
  },
  {
   "cell_type": "code",
   "execution_count": null,
   "id": "26c5eb24",
   "metadata": {},
   "outputs": [
    {
     "name": "stdout",
     "output_type": "stream",
     "text": [
      "Ze temperature this week: [21 23 22 19 19 15 18]\n",
      "Highest temperature: 23\n",
      "Lowest temperature: 15\n",
      "Mean of temperatures: 19.571428571428573\n"
     ]
    }
   ],
   "source": [
    "import numpy as np\n",
    "\n",
    "# Create a 1D array\n",
    "single_dimensional = np.array([21, 23, 22, 19, 19, 15, 18])\n",
    "\n",
    "# Print the entire array\n",
    "print(\"Ze temperature this week:\", single_dimensional)\n",
    "\n",
    "# Basic operations\n",
    "highest_temperature = np.max(single_dimensional)\n",
    "lowest_temperature = np.min(single_dimensional)\n",
    "mean_of_temperatures = np.mean(single_dimensional)\n",
    "\n",
    "\n",
    "print(\"Highest temperature:\", highest_temperature)\n",
    "print(\"Lowest temperature:\", lowest_temperature)\n",
    "print(\"Mean of temperatures:\", mean_of_temperatures)"
   ]
  },
  {
   "cell_type": "markdown",
   "id": "19e83472",
   "metadata": {},
   "source": [
    "2. Create a 2D array that represents a 3x3 tic-tac-toe board.\n",
    "\n",
    "Fill it with \"X\", \"O\", and \" \" (empty spaces).\n",
    "\n",
    "Print the board neatly.\n",
    "\n",
    "Extension: allow the user to enter a row and column to place their mark."
   ]
  },
  {
   "cell_type": "code",
   "execution_count": 39,
   "id": "8d7d52c4",
   "metadata": {},
   "outputs": [
    {
     "name": "stdout",
     "output_type": "stream",
     "text": [
      "[['X' 'O' 'X']\n",
      " ['O' 'O' 'X']\n",
      " ['' 'X' '']]\n"
     ]
    }
   ],
   "source": [
    "import numpy as np\n",
    "\n",
    "# Creating a 2D array (matrix) using NumPy\n",
    "numpy_matrix = np.array([\n",
    "    [\"X\", \"O\", \"X\"],\n",
    "    [\"O\", \"O\", \"X\"],\n",
    "    [\"\", \"X\", \"\"]\n",
    "])\n",
    "\n",
    "print(numpy_matrix)"
   ]
  },
  {
   "cell_type": "markdown",
   "id": "dac68678",
   "metadata": {},
   "source": [
    "3. Lists Make a shopping list program.\n",
    "\n",
    "Start with [\"milk\", \"bread\", \"eggs\"].\n",
    "\n",
    "Allow the user to:\n",
    "\n",
    "Add an item (append)\n",
    "\n",
    "Remove an item (remove)\n",
    "\n",
    "View the list in order\n",
    "\n",
    "Extension: Ask the user what they want to buy and check if it’s already in the list."
   ]
  },
  {
   "cell_type": "code",
   "execution_count": 141,
   "id": "71362fe2",
   "metadata": {},
   "outputs": [
    {
     "name": "stdout",
     "output_type": "stream",
     "text": [
      "milk\n",
      "bread\n",
      "eggs\n"
     ]
    }
   ],
   "source": [
    "# Example of creating and using a list\n",
    "shopping_list = ['milk', 'bread', 'eggs']\n",
    "shopping_list.append('chicken')  # Adding an item\n",
    "print(shopping_list[0])\n",
    "print(shopping_list[1])\n",
    "print(shopping_list[2])  # Accessing an item by index\n",
    "\n",
    "# Remove an item by value\n",
    "shopping_list.remove('bread')  # Removes the first occurrence of 'banana'\n",
    "\n",
    "# Pop an item by index\n",
    "list = shopping_list.pop(2)  # Removes and returns the item at index 2\n"
   ]
  },
  {
   "cell_type": "markdown",
   "id": "eb11e368",
   "metadata": {},
   "source": [
    "4. Create a binary tree in Python with this structure:\n",
    "\n",
    "4. Create a binary tree in Python with this structure:\n",
    "\n",
    "Copy\n",
    "        50\n",
    "       /  \\\n",
    "     30    70\n",
    "    / \\    / \\\n",
    "   20 40  60 80\n",
    "Create a Node class (just like in the example).\n",
    "\n",
    "Make the root node with value 50.\n",
    "\n",
    "Add two children:\n",
    "\n",
    "Left child: 30\n",
    "\n",
    "Right child: 70\n",
    "\n",
    "Add the next layer of children so it looks like the tree diagram above.\n",
    "\n",
    "Print some of the values to check your tree.\n",
    "\n",
    "\n",
    "\n",
    "Make the root node with value 50.\n",
    "\n",
    "Add two children:\n",
    "\n",
    "Left child: 30\n",
    "\n",
    "Right child: 70\n",
    "\n",
    "Add the next layer of children so it looks like the tree diagram above.\n",
    "\n",
    "Print some of the values to check your tree.\n",
    "\n"
   ]
  },
  {
   "cell_type": "code",
   "execution_count": 185,
   "id": "ed49cfe5",
   "metadata": {},
   "outputs": [
    {
     "ename": "AttributeError",
     "evalue": "'Node' object has no attribute 'right_data'",
     "output_type": "error",
     "traceback": [
      "\u001b[31m---------------------------------------------------------------------------\u001b[39m",
      "\u001b[31mAttributeError\u001b[39m                            Traceback (most recent call last)",
      "\u001b[36mCell\u001b[39m\u001b[36m \u001b[39m\u001b[32mIn[185]\u001b[39m\u001b[32m, line 27\u001b[39m\n\u001b[32m     18\u001b[39m root.right.right = Node(\u001b[32m20\u001b[39m)\n\u001b[32m     20\u001b[39m \u001b[38;5;66;03m# This creates a simple binary tree structure:\u001b[39;00m\n\u001b[32m     21\u001b[39m \u001b[38;5;66;03m#        10\u001b[39;00m\n\u001b[32m     22\u001b[39m \u001b[38;5;66;03m#       /  \\\u001b[39;00m\n\u001b[32m     23\u001b[39m \u001b[38;5;66;03m#      5    15\u001b[39;00m\n\u001b[32m     24\u001b[39m \u001b[38;5;66;03m#     / \\    \\\u001b[39;00m\n\u001b[32m     25\u001b[39m \u001b[38;5;66;03m#    2   7    20\u001b[39;00m\n\u001b[32m---> \u001b[39m\u001b[32m27\u001b[39m \u001b[38;5;28mprint\u001b[39m(\u001b[43mroot\u001b[49m\u001b[43m.\u001b[49m\u001b[43mright\u001b[49m\u001b[43m.\u001b[49m\u001b[43mright_data\u001b[49m) \n",
      "\u001b[31mAttributeError\u001b[39m: 'Node' object has no attribute 'right_data'"
     ]
    }
   ],
   "source": [
    "class Node:\n",
    "    def __init__(self, data):\n",
    "        self.data = data\n",
    "        self.left = None\n",
    "        self.right = None\n",
    "\n",
    "# Example usage:\n",
    "# Create the root node\n",
    "root = Node(10)\n",
    "\n",
    "# Add child nodes\n",
    "root.left = Node(5)\n",
    "root.right = Node(15)\n",
    "\n",
    "# Add more children\n",
    "root.left.left = Node(2)\n",
    "root.left.right = Node(7)\n",
    "root.right.right = Node(20)\n",
    "\n",
    "# This creates a simple binary tree structure:\n",
    "#        10\n",
    "#       /  \\\n",
    "#      5    15\n",
    "#     / \\    \\\n",
    "#    2   7    20\n",
    "\n",
    "print(root.right.right_data) "
   ]
  },
  {
   "cell_type": "markdown",
   "id": "7aeae5a6",
   "metadata": {},
   "source": [
    "5. Stacks\n",
    "Activity: Simulate the undo feature in a text editor.\n",
    "\n",
    "Create an empty stack.\n",
    "\n",
    "Ask the user to “type” words (push them onto the stack).\n",
    "\n",
    "When the user types “undo”, pop the last word and show the updated sentence.\n",
    "\n",
    "Extension: allow “redo” with another stack."
   ]
  },
  {
   "cell_type": "markdown",
   "id": "7943b6c5",
   "metadata": {},
   "source": [
    "6. Dictionaries\n",
    "Activity: Build a phone book with a dictionary.\n",
    "\n",
    "Keys = names, Values = phone numbers.\n",
    "\n",
    "Allow the user to:\n",
    "\n",
    "Add a contact\n",
    "\n",
    "Look up a contact\n",
    "\n",
    "Delete a contact\n",
    "\n",
    "Extension: print all contacts sorted alphabetically by name."
   ]
  },
  {
   "cell_type": "code",
   "execution_count": 3,
   "id": "83f0138b",
   "metadata": {},
   "outputs": [
    {
     "name": "stdout",
     "output_type": "stream",
     "text": [
      "Agathokles Moise\n",
      "David Bazza\n",
      "Ivanka Christel\n",
      "name: Ivanka Christel\n",
      "occupation: Art critic\n"
     ]
    }
   ],
   "source": [
    "# Create a dictionary\n",
    "Jit_1 = {\n",
    "    'name': 'Agathokles Moise',\n",
    "    'age': 92,\n",
    "    'occupation': 'Publican'\n",
    "}\n",
    "\n",
    "Jit_2 = {\n",
    "    'name': 'David Bazza',\n",
    "    'age': 93,\n",
    "    'occupation': 'Special constable'\n",
    "}\n",
    "\n",
    "Jit_3 = {\n",
    "    'name': 'Ivanka Christel',\n",
    "    'age': 17,\n",
    "    'occupation': 'Art critic'\n",
    "}\n",
    "\n",
    "\n",
    "# Access a value by key\n",
    "print(Jit_1['name']) \n",
    "print(Jit_2['name']) \n",
    "print(Jit_3['name']) \n",
    "\n",
    "# Add a new key-value pair\n",
    "Jit_2['city'] = 'New York'\n",
    "\n",
    "# Remove a key-value pair\n",
    "del Jit_3['age']\n",
    "\n",
    "# Iterate through key-value pairs in the dictionary\n",
    "for key, value in Jit_3.items():\n",
    "    print(f\"{key}: {value}\")"
   ]
  }
 ],
 "metadata": {
  "language_info": {
   "name": "python"
  }
 },
 "nbformat": 4,
 "nbformat_minor": 5
}
